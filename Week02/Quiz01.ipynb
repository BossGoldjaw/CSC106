{
 "cells": [
  {
   "cell_type": "markdown",
   "id": "8c72d2c0",
   "metadata": {},
   "source": [
    "# Question 1"
   ]
  },
  {
   "cell_type": "raw",
   "id": "b134b58a",
   "metadata": {},
   "source": [
    "What is the output of the individual cells. (1 point each)\n",
    "\n",
    "If there is an error on any of the cells, report the error. (1 point each)\n",
    "\n",
    "Propose a fix for the error. (1 point each)"
   ]
  },
  {
   "cell_type": "markdown",
   "id": "25697a78",
   "metadata": {},
   "source": [
    "## Cell 1:"
   ]
  },
  {
   "cell_type": "code",
   "execution_count": 4,
   "id": "cf25f450",
   "metadata": {
    "tags": [
     "report",
     "error"
    ]
   },
   "outputs": [
    {
     "ename": "SyntaxError",
     "evalue": "unterminated string literal (detected at line 1) (3982957668.py, line 1)",
     "output_type": "error",
     "traceback": [
      "\u001b[0;36m  Cell \u001b[0;32mIn[4], line 1\u001b[0;36m\u001b[0m\n\u001b[0;31m    print(Hallo class\")\u001b[0m\n\u001b[0m                     ^\u001b[0m\n\u001b[0;31mSyntaxError\u001b[0m\u001b[0;31m:\u001b[0m unterminated string literal (detected at line 1)\n"
     ]
    }
   ],
   "source": [
    "print(Hallo class\")"
   ]
  },
  {
   "cell_type": "code",
   "execution_count": 5,
   "id": "eb50356e",
   "metadata": {
    "tags": [
     "error_fix"
    ]
   },
   "outputs": [
    {
     "name": "stdout",
     "output_type": "stream",
     "text": [
      "Hallo class\n"
     ]
    }
   ],
   "source": [
    "print(\"Hallo class\")"
   ]
  },
  {
   "cell_type": "markdown",
   "id": "005aa748",
   "metadata": {},
   "source": [
    "## Cell 2 "
   ]
  },
  {
   "cell_type": "code",
   "execution_count": 6,
   "id": "65e86d75",
   "metadata": {
    "tags": [
     "report",
     "error"
    ]
   },
   "outputs": [
    {
     "ename": "SyntaxError",
     "evalue": "unterminated string literal (detected at line 1) (453943753.py, line 1)",
     "output_type": "error",
     "traceback": [
      "\u001b[0;36m  Cell \u001b[0;32mIn[6], line 1\u001b[0;36m\u001b[0m\n\u001b[0;31m    print(\"Hallo class)\u001b[0m\n\u001b[0m          ^\u001b[0m\n\u001b[0;31mSyntaxError\u001b[0m\u001b[0;31m:\u001b[0m unterminated string literal (detected at line 1)\n"
     ]
    }
   ],
   "source": [
    "print(\"Hallo class)"
   ]
  },
  {
   "cell_type": "code",
   "execution_count": 7,
   "id": "9bdf7f7e",
   "metadata": {
    "tags": [
     "error_fix"
    ]
   },
   "outputs": [
    {
     "name": "stdout",
     "output_type": "stream",
     "text": [
      "Hallo class\n"
     ]
    }
   ],
   "source": [
    "print(\"Hallo class\")"
   ]
  },
  {
   "cell_type": "markdown",
   "id": "1e3994e6",
   "metadata": {},
   "source": [
    "# # Cell 3"
   ]
  },
  {
   "cell_type": "code",
   "execution_count": 8,
   "id": "11e39fe7",
   "metadata": {
    "tags": [
     "good"
    ]
   },
   "outputs": [
    {
     "name": "stdout",
     "output_type": "stream",
     "text": [
      "Helo Class\n"
     ]
    }
   ],
   "source": [
    "print(\"Helo Class\")"
   ]
  },
  {
   "cell_type": "markdown",
   "id": "dd1075fe",
   "metadata": {},
   "source": [
    "# Cell 4"
   ]
  },
  {
   "cell_type": "code",
   "execution_count": 9,
   "id": "5e7acd4e",
   "metadata": {
    "tags": [
     "error",
     "report"
    ]
   },
   "outputs": [
    {
     "ename": "SyntaxError",
     "evalue": "unterminated string literal (detected at line 1) (4289721411.py, line 1)",
     "output_type": "error",
     "traceback": [
      "\u001b[0;36m  Cell \u001b[0;32mIn[9], line 1\u001b[0;36m\u001b[0m\n\u001b[0;31m    print(Hallo class')\u001b[0m\n\u001b[0m                     ^\u001b[0m\n\u001b[0;31mSyntaxError\u001b[0m\u001b[0;31m:\u001b[0m unterminated string literal (detected at line 1)\n"
     ]
    }
   ],
   "source": [
    "print(Hallo class')"
   ]
  },
  {
   "cell_type": "code",
   "execution_count": 10,
   "id": "10915451",
   "metadata": {
    "tags": [
     "error_fix"
    ]
   },
   "outputs": [
    {
     "name": "stdout",
     "output_type": "stream",
     "text": [
      "Hallo class\n"
     ]
    }
   ],
   "source": [
    "print('Hallo class')"
   ]
  },
  {
   "cell_type": "markdown",
   "id": "549c326f",
   "metadata": {},
   "source": [
    "# Cell 5"
   ]
  },
  {
   "cell_type": "code",
   "execution_count": 11,
   "id": "462f6c1f",
   "metadata": {
    "tags": [
     "error",
     "report"
    ]
   },
   "outputs": [
    {
     "ename": "SyntaxError",
     "evalue": "unterminated string literal (detected at line 1) (2111080531.py, line 1)",
     "output_type": "error",
     "traceback": [
      "\u001b[0;36m  Cell \u001b[0;32mIn[11], line 1\u001b[0;36m\u001b[0m\n\u001b[0;31m    print('Hallo class)\u001b[0m\n\u001b[0m          ^\u001b[0m\n\u001b[0;31mSyntaxError\u001b[0m\u001b[0;31m:\u001b[0m unterminated string literal (detected at line 1)\n"
     ]
    }
   ],
   "source": [
    "print('Hallo class)"
   ]
  },
  {
   "cell_type": "code",
   "execution_count": 12,
   "id": "eb1af3d3",
   "metadata": {
    "tags": [
     "error_fix"
    ]
   },
   "outputs": [
    {
     "name": "stdout",
     "output_type": "stream",
     "text": [
      "Hallo class\n"
     ]
    }
   ],
   "source": [
    "print('Hallo class')"
   ]
  },
  {
   "cell_type": "markdown",
   "id": "1356a53b",
   "metadata": {},
   "source": [
    "# Cell 6"
   ]
  },
  {
   "cell_type": "code",
   "execution_count": 13,
   "id": "1fa099a8",
   "metadata": {
    "tags": [
     "good"
    ]
   },
   "outputs": [
    {
     "name": "stdout",
     "output_type": "stream",
     "text": [
      "Hello Clas\n"
     ]
    }
   ],
   "source": [
    "print('Hello Clas')"
   ]
  },
  {
   "cell_type": "markdown",
   "id": "522045b1",
   "metadata": {},
   "source": [
    "# Cell 7"
   ]
  },
  {
   "cell_type": "code",
   "execution_count": 14,
   "id": "44a99779",
   "metadata": {
    "tags": [
     "report",
     "error"
    ]
   },
   "outputs": [
    {
     "ename": "SyntaxError",
     "evalue": "unterminated string literal (detected at line 1) (337988708.py, line 1)",
     "output_type": "error",
     "traceback": [
      "\u001b[0;36m  Cell \u001b[0;32mIn[14], line 1\u001b[0;36m\u001b[0m\n\u001b[0;31m    print(\"Hello Class')\u001b[0m\n\u001b[0m          ^\u001b[0m\n\u001b[0;31mSyntaxError\u001b[0m\u001b[0;31m:\u001b[0m unterminated string literal (detected at line 1)\n"
     ]
    }
   ],
   "source": [
    "print(\"Hello Class')"
   ]
  },
  {
   "cell_type": "code",
   "execution_count": 15,
   "id": "b8121979",
   "metadata": {
    "tags": [
     "error_fix"
    ]
   },
   "outputs": [
    {
     "name": "stdout",
     "output_type": "stream",
     "text": [
      "Hello Class\n"
     ]
    }
   ],
   "source": [
    "print(\"Hello Class\")"
   ]
  },
  {
   "cell_type": "markdown",
   "id": "37b45440",
   "metadata": {},
   "source": [
    "# Cell 8"
   ]
  },
  {
   "cell_type": "code",
   "execution_count": 16,
   "id": "ca20160c",
   "metadata": {
    "tags": [
     "error",
     "report"
    ]
   },
   "outputs": [
    {
     "ename": "SyntaxError",
     "evalue": "unterminated string literal (detected at line 1) (3691414317.py, line 1)",
     "output_type": "error",
     "traceback": [
      "\u001b[0;36m  Cell \u001b[0;32mIn[16], line 1\u001b[0;36m\u001b[0m\n\u001b[0;31m    print('Hello Class\")\u001b[0m\n\u001b[0m          ^\u001b[0m\n\u001b[0;31mSyntaxError\u001b[0m\u001b[0;31m:\u001b[0m unterminated string literal (detected at line 1)\n"
     ]
    }
   ],
   "source": [
    "print('Hello Class\")"
   ]
  },
  {
   "cell_type": "code",
   "execution_count": 17,
   "id": "d28a2547",
   "metadata": {
    "tags": [
     "error_fix"
    ]
   },
   "outputs": [
    {
     "name": "stdout",
     "output_type": "stream",
     "text": [
      "Hello Class\n"
     ]
    }
   ],
   "source": [
    "print('Hello Class')"
   ]
  },
  {
   "cell_type": "markdown",
   "id": "33f0d44b",
   "metadata": {},
   "source": [
    "# Cell 9"
   ]
  },
  {
   "cell_type": "code",
   "execution_count": 18,
   "id": "2c80bc1b",
   "metadata": {
    "tags": [
     "good"
    ]
   },
   "outputs": [
    {
     "name": "stdout",
     "output_type": "stream",
     "text": [
      "Hello' class|\n"
     ]
    }
   ],
   "source": [
    "print(\"Hello' class|\")"
   ]
  },
  {
   "cell_type": "markdown",
   "id": "3b84bca3",
   "metadata": {},
   "source": [
    "# Cell 10"
   ]
  },
  {
   "cell_type": "code",
   "execution_count": 20,
   "id": "88f41d1e",
   "metadata": {
    "tags": [
     "report",
     "error"
    ]
   },
   "outputs": [
    {
     "ename": "SyntaxError",
     "evalue": "unterminated string literal (detected at line 1) (3210738619.py, line 1)",
     "output_type": "error",
     "traceback": [
      "\u001b[0;36m  Cell \u001b[0;32mIn[20], line 1\u001b[0;36m\u001b[0m\n\u001b[0;31m    print('Hello Class'\")\u001b[0m\n\u001b[0m                       ^\u001b[0m\n\u001b[0;31mSyntaxError\u001b[0m\u001b[0;31m:\u001b[0m unterminated string literal (detected at line 1)\n"
     ]
    }
   ],
   "source": [
    "print('Hello Class'\")"
   ]
  },
  {
   "cell_type": "code",
   "execution_count": 21,
   "id": "a9482527",
   "metadata": {
    "tags": [
     "error_fix"
    ]
   },
   "outputs": [
    {
     "name": "stdout",
     "output_type": "stream",
     "text": [
      "Hello Class\n"
     ]
    }
   ],
   "source": [
    "print('Hello Class')"
   ]
  },
  {
   "cell_type": "markdown",
   "id": "b5159dd8",
   "metadata": {},
   "source": [
    "# Github Link"
   ]
  },
  {
   "cell_type": "code",
   "execution_count": 24,
   "id": "36abd425",
   "metadata": {},
   "outputs": [
    {
     "name": "stdout",
     "output_type": "stream",
     "text": [
      "https://github.com/BossGoldjaw/CSC106/tree/main/Week02\n"
     ]
    }
   ],
   "source": [
    "print('https://github.com/BossGoldjaw/CSC106/tree/main/Week02')"
   ]
  },
  {
   "cell_type": "code",
   "execution_count": null,
   "id": "ddcb2c7a",
   "metadata": {},
   "outputs": [],
   "source": []
  }
 ],
 "metadata": {
  "celltoolbar": "Tags",
  "kernelspec": {
   "display_name": "Python 3 (ipykernel)",
   "language": "python",
   "name": "python3"
  },
  "language_info": {
   "codemirror_mode": {
    "name": "ipython",
    "version": 3
   },
   "file_extension": ".py",
   "mimetype": "text/x-python",
   "name": "python",
   "nbconvert_exporter": "python",
   "pygments_lexer": "ipython3",
   "version": "3.12.3"
  }
 },
 "nbformat": 4,
 "nbformat_minor": 5
}
